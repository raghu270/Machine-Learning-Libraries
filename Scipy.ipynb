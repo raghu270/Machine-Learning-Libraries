{
 "cells": [
  {
   "cell_type": "markdown",
   "id": "d8b869f6",
   "metadata": {},
   "source": [
    "# scipy\n"
   ]
  },
  {
   "cell_type": "code",
   "execution_count": null,
   "id": "afbcfb0d",
   "metadata": {},
   "outputs": [],
   "source": [
    "It is free and open source python library\n",
    "It is used for scientific computing and technical computing\n",
    "It contain modules for optimization, linear algebra,signal etc"
   ]
  },
  {
   "cell_type": "markdown",
   "id": "41f2b881",
   "metadata": {},
   "source": [
    "# scipy stats"
   ]
  },
  {
   "cell_type": "code",
   "execution_count": 1,
   "id": "8d50b2f8",
   "metadata": {},
   "outputs": [
    {
     "name": "stdout",
     "output_type": "stream",
     "text": [
      "24.625\n",
      "8.915401000515905\n"
     ]
    }
   ],
   "source": [
    "import numpy as np\n",
    "a=np.array([15,10,20,26,32,38,33,23])\n",
    "print(a.mean())\n",
    "print(a.std())"
   ]
  },
  {
   "cell_type": "code",
   "execution_count": 3,
   "id": "df211b0e",
   "metadata": {},
   "outputs": [
    {
     "name": "stdout",
     "output_type": "stream",
     "text": [
      "[-1.07959249 -1.64041976 -0.51876522  0.1542275   0.82722022  1.50021295\n",
      "  0.93938568 -0.18226886]\n"
     ]
    }
   ],
   "source": [
    "# z-score (used for finding out the outliers)\n",
    "from scipy import stats\n",
    "print(stats.zscore(a))"
   ]
  },
  {
   "cell_type": "code",
   "execution_count": 4,
   "id": "1f9dd922",
   "metadata": {},
   "outputs": [],
   "source": [
    "# zscore greater than 3 and less than -3 is treated as outlier"
   ]
  },
  {
   "cell_type": "markdown",
   "id": "e1905397",
   "metadata": {},
   "source": [
    "# scipy optimize\n"
   ]
  },
  {
   "cell_type": "code",
   "execution_count": 5,
   "id": "47beda52",
   "metadata": {},
   "outputs": [],
   "source": [
    "import matplotlib.pyplot as plt\n",
    "import numpy as np\n"
   ]
  },
  {
   "cell_type": "code",
   "execution_count": 21,
   "id": "30b4f137",
   "metadata": {},
   "outputs": [
    {
     "data": {
      "text/plain": [
       "[<matplotlib.lines.Line2D at 0x242841a56a0>]"
      ]
     },
     "execution_count": 21,
     "metadata": {},
     "output_type": "execute_result"
    },
    {
     "data": {
      "image/png": "[encoded data removed]",
      "text/plain": [
       "<Figure size 640x480 with 1 Axes>"
      ]
     },
     "metadata": {},
     "output_type": "display_data"
    }
   ],
   "source": [
    "# for optimization or for differentiation\n",
    "x=np.arange(0.1,1.0,0.1)\n",
    "def f(x):\n",
    "    return -np.exp(-(x-0.7)**2)\n",
    "plt.plot(x,f(x),'o-')"
   ]
  },
  {
   "cell_type": "markdown",
   "id": "6b2ea2b0",
   "metadata": {},
   "source": [
    "# scipy integrate"
   ]
  },
  {
   "cell_type": "code",
   "execution_count": 20,
   "id": "e73831c5",
   "metadata": {},
   "outputs": [
    {
     "data": {
      "text/plain": [
       "0.33333333333333337"
      ]
     },
     "execution_count": 20,
     "metadata": {},
     "output_type": "execute_result"
    }
   ],
   "source": [
    "import scipy.integrate as intg\n",
    "def inte(x):\n",
    "    return x**2\n",
    "ans,_=intg.quad(inte,0,1)\n",
    "ans"
   ]
  },
  {
   "cell_type": "markdown",
   "id": "1229ae39",
   "metadata": {},
   "source": [
    "# scipy linalg"
   ]
  },
  {
   "cell_type": "code",
   "execution_count": 22,
   "id": "2a92c016",
   "metadata": {},
   "outputs": [
    {
     "data": {
      "text/plain": [
       "-5.921189464667502e-16"
      ]
     },
     "execution_count": 22,
     "metadata": {},
     "output_type": "execute_result"
    }
   ],
   "source": [
    "from scipy import linalg\n",
    "a=np.array([[1,2,3],[3,4,5],[6,7,8]])\n",
    "linalg.det(a)"
   ]
  },
  {
   "cell_type": "code",
   "execution_count": 23,
   "id": "1fec3ac6",
   "metadata": {},
   "outputs": [
    {
     "data": {
      "text/plain": [
       "array([[ 8.10647933e+16, -1.35107989e+17,  5.40431955e+16],\n",
       "       [-1.62129587e+17,  2.70215978e+17, -1.08086391e+17],\n",
       "       [ 8.10647933e+16, -1.35107989e+17,  5.40431955e+16]])"
      ]
     },
     "execution_count": 23,
     "metadata": {},
     "output_type": "execute_result"
    }
   ],
   "source": [
    "linalg.inv(a)"
   ]
  },
  {
   "cell_type": "code",
   "execution_count": 24,
   "id": "2d585c1d",
   "metadata": {},
   "outputs": [
    {
     "data": {
      "text/plain": [
       "array([ 1.40663730e+01+0.j, -1.06637298e+00+0.j, -1.08222200e-15+0.j])"
      ]
     },
     "execution_count": 24,
     "metadata": {},
     "output_type": "execute_result"
    }
   ],
   "source": [
    "linalg.eigvals(a)"
   ]
  },
  {
   "cell_type": "code",
   "execution_count": null,
   "id": "2bc60405",
   "metadata": {},
   "outputs": [],
   "source": []
  }
 ],
 "metadata": {
  "kernelspec": {
   "display_name": "Python 3 (ipykernel)",
   "language": "python",
   "name": "python3"
  },
  "language_info": {
   "codemirror_mode": {
    "name": "ipython",
    "version": 3
   },
   "file_extension": ".py",
   "mimetype": "text/x-python",
   "name": "python",
   "nbconvert_exporter": "python",
   "pygments_lexer": "ipython3",
   "version": "3.9.13"
  }
 },
 "nbformat": 4,
 "nbformat_minor": 5
}
